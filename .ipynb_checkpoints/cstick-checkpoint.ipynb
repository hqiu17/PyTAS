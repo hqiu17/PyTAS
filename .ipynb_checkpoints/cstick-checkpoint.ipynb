{
 "cells": [
  {
   "cell_type": "code",
   "execution_count": 1,
   "metadata": {},
   "outputs": [],
   "source": [
    "import pandas as pd\n",
    "import numpy as np\n",
    "import matplotlib.pyplot as plt\n",
    "%matplotlib inline\n",
    "#%pylab inline"
   ]
  },
  {
   "cell_type": "code",
   "execution_count": 31,
   "metadata": {},
   "outputs": [],
   "source": [
    "df=pd.read_csv(\"/Users/air1/pyAlpha/ALLY.txt\",sep=\"\\t\",index_col=0)"
   ]
  },
  {
   "cell_type": "code",
   "execution_count": 32,
   "metadata": {},
   "outputs": [
    {
     "name": "stdout",
     "output_type": "stream",
     "text": [
      "FFF\n"
     ]
    }
   ],
   "source": [
    "df.head(3)\n",
    "print(\"FFF\")"
   ]
  },
  {
   "cell_type": "code",
   "execution_count": 33,
   "metadata": {},
   "outputs": [],
   "source": [
    "#df[\"4. close\"].plot(grid=True)"
   ]
  },
  {
   "cell_type": "code",
   "execution_count": 34,
   "metadata": {},
   "outputs": [
    {
     "data": {
      "text/plain": [
       "(1197,)"
      ]
     },
     "execution_count": 34,
     "metadata": {},
     "output_type": "execute_result"
    }
   ],
   "source": [
    "close=df.iloc[:,3]\n",
    "close.shape"
   ]
  },
  {
   "cell_type": "code",
   "execution_count": 35,
   "metadata": {},
   "outputs": [],
   "source": [
    "df[\"50MA\"]=df[\"4. close\"].rolling(50).mean()\n",
    "df[\"150MA\"]=df[\"4. close\"].rolling(150).mean()\n",
    "df[\"200MA\"]=df[\"4. close\"].rolling(200).mean()"
   ]
  },
  {
   "cell_type": "code",
   "execution_count": 36,
   "metadata": {},
   "outputs": [
    {
     "data": {
      "text/html": [
       "<div>\n",
       "<style scoped>\n",
       "    .dataframe tbody tr th:only-of-type {\n",
       "        vertical-align: middle;\n",
       "    }\n",
       "\n",
       "    .dataframe tbody tr th {\n",
       "        vertical-align: top;\n",
       "    }\n",
       "\n",
       "    .dataframe thead th {\n",
       "        text-align: right;\n",
       "    }\n",
       "</style>\n",
       "<table border=\"1\" class=\"dataframe\">\n",
       "  <thead>\n",
       "    <tr style=\"text-align: right;\">\n",
       "      <th></th>\n",
       "      <th>1. open</th>\n",
       "      <th>2. high</th>\n",
       "      <th>3. low</th>\n",
       "      <th>4. close</th>\n",
       "      <th>5. volume</th>\n",
       "      <th>50MA</th>\n",
       "      <th>150MA</th>\n",
       "      <th>200MA</th>\n",
       "    </tr>\n",
       "    <tr>\n",
       "      <th>date</th>\n",
       "      <th></th>\n",
       "      <th></th>\n",
       "      <th></th>\n",
       "      <th></th>\n",
       "      <th></th>\n",
       "      <th></th>\n",
       "      <th></th>\n",
       "      <th></th>\n",
       "    </tr>\n",
       "  </thead>\n",
       "  <tbody>\n",
       "    <tr>\n",
       "      <th>2019-01-09</th>\n",
       "      <td>24.22</td>\n",
       "      <td>24.470</td>\n",
       "      <td>24.09</td>\n",
       "      <td>24.23</td>\n",
       "      <td>2564520.0</td>\n",
       "      <td>24.4192</td>\n",
       "      <td>25.990067</td>\n",
       "      <td>26.20595</td>\n",
       "    </tr>\n",
       "    <tr>\n",
       "      <th>2019-01-10</th>\n",
       "      <td>24.10</td>\n",
       "      <td>24.355</td>\n",
       "      <td>23.93</td>\n",
       "      <td>24.27</td>\n",
       "      <td>4043952.0</td>\n",
       "      <td>24.4174</td>\n",
       "      <td>25.975133</td>\n",
       "      <td>26.19390</td>\n",
       "    </tr>\n",
       "  </tbody>\n",
       "</table>\n",
       "</div>"
      ],
      "text/plain": [
       "            1. open  2. high  3. low  4. close  5. volume     50MA      150MA  \\\n",
       "date                                                                            \n",
       "2019-01-09    24.22   24.470   24.09     24.23  2564520.0  24.4192  25.990067   \n",
       "2019-01-10    24.10   24.355   23.93     24.27  4043952.0  24.4174  25.975133   \n",
       "\n",
       "               200MA  \n",
       "date                  \n",
       "2019-01-09  26.20595  \n",
       "2019-01-10  26.19390  "
      ]
     },
     "execution_count": 36,
     "metadata": {},
     "output_type": "execute_result"
    }
   ],
   "source": [
    "df.tail(2)"
   ]
  },
  {
   "cell_type": "code",
   "execution_count": 37,
   "metadata": {},
   "outputs": [],
   "source": [
    "def scale (df, ratio=3):\n",
    "    \n",
    "    # figure out the maximum/minimum of x/y axis\n",
    "    #\n",
    "    sample_size = len(df.index)\n",
    "    fig_ymin=df.min(axis=0).iloc[3]\n",
    "    fig_ymax=df.max(axis=0).iloc[1]\n",
    "    fig_xmin=0\n",
    "    fig_xmax=sample_size\n",
    "\n",
    "    # figure out asceding gradient \"alpha\" of bar width over time\n",
    "    #\n",
    "    alpha = ratio **( 1/(sample_size-1) )\n",
    "    total_bar_width = 1\n",
    "    bar_width = 1\n",
    "    for i in range(1, sample_size):\n",
    "        bar_width = bar_width * alpha\n",
    "        total_bar_width += bar_width\n",
    "    # actual width of bar for day one\n",
    "    bar1_width = (fig_xmax - fig_xmin)/total_bar_width\n",
    "\n",
    "    # iterate through days and apply alpha\n",
    "    bar_xcord =[]\n",
    "    bar_width =[]\n",
    "    bar_color =[]\n",
    "    \n",
    "    right_edge = 0\n",
    "    width_bar  = bar1_width\n",
    "    for date, data in df.iterrows():\n",
    "        \n",
    "        right_edge += width_bar\n",
    "        # price open, close, high, an low information\n",
    "        price_low = np.minimum(data.iloc[1], data.iloc[2])\n",
    "        price_range = abs(data.iloc[1]-data.iloc[2])\n",
    "        body_low = np.minimum(data.iloc[0], data.iloc[3])\n",
    "        body_range = abs( (data.iloc[0]-data.iloc[3]) )\n",
    "        if body_range <0.01:\n",
    "            body_range=0.01\n",
    "        if price_range <0.01:\n",
    "            price_range=0.01\n",
    "        # set color\n",
    "        color=\"red\"\n",
    "        if data.iloc[0]==body_low:\n",
    "            color=\"green\"\n",
    "\n",
    "        bar_width.append(width_bar)\n",
    "        bar_xcord.append(right_edge-width_bar/2)\n",
    "        bar_color.append(color)\n",
    "        \n",
    "        width_bar = width_bar*alpha\n",
    "        \n",
    "    df.loc[:,\"xcord\"] = bar_xcord\n",
    "    df.loc[:,\"width\"] = bar_width\n",
    "    df.loc[:,\"color\"] = bar_color\n",
    "    \n",
    "    return df"
   ]
  },
  {
   "cell_type": "code",
   "execution_count": 38,
   "metadata": {},
   "outputs": [
    {
     "data": {
      "text/plain": [
       "(200, 11)"
      ]
     },
     "execution_count": 38,
     "metadata": {},
     "output_type": "execute_result"
    }
   ],
   "source": [
    "mydf = df.tail(200)\n",
    "mydf = scale(mydf)\n",
    "mydf.shape\n",
    "#mydf.tail(3)"
   ]
  },
  {
   "cell_type": "code",
   "execution_count": 39,
   "metadata": {},
   "outputs": [],
   "source": [
    "def draw_candlestick(df):\n",
    "    \n",
    "    # figure out the maximum/minimum of x/y axis\n",
    "    #\n",
    "    sample_size = len(df.index)\n",
    "    fig_ymin=df.min(axis=0).iloc[3]\n",
    "    fig_ymax=df.max(axis=0).iloc[1]\n",
    "    fig_xmin=0\n",
    "    fig_xmax=sample_size\n",
    "    \n",
    "    plt.figure(figsize=(15,9))\n",
    "    plt.xlim(fig_xmin, fig_xmax)\n",
    "    plt.ylim(fig_ymin, fig_ymax)\n",
    "    \n",
    "    for num, data in df.iterrows():\n",
    "        price_low = np.minimum(data.iloc[1], data.iloc[2])\n",
    "        price_range = abs(data.iloc[1]-data.iloc[2])\n",
    "        body_low = np.minimum(data.iloc[0], data.iloc[3])\n",
    "        body_range = abs( (data.iloc[0]-data.iloc[3]) )\n",
    "        if body_range <0.01:\n",
    "            body_range=0.01\n",
    "        if price_range <0.01:\n",
    "            price_range=0.01\n",
    "            \n",
    "        plt.bar(data[\"xcord\"], body_range,  data[\"width\"],   bottom=body_low,  color=data[\"color\"] )\n",
    "        plt.bar(data[\"xcord\"], price_range, data[\"width\"]/5, bottom=price_low, color=data[\"color\"] )\n",
    "        \n",
    "        #print (body_range, body_low)\n",
    "        #print (df[\"xcord\"])\n",
    "        \n",
    "    #plt.show()\n",
    "    df[\"50MA\"].plot()\n",
    "    df[\"150MA\"].plot()\n",
    "    df[\"200MA\"].plot()"
   ]
  },
  {
   "cell_type": "code",
   "execution_count": 40,
   "metadata": {},
   "outputs": [
    {
     "data": {
      "image/png": "[encoded data removed]",
      "text/plain": [
       "<Figure size 1080x648 with 1 Axes>"
      ]
     },
     "metadata": {
      "needs_background": "light"
     },
     "output_type": "display_data"
    }
   ],
   "source": [
    "draw_candlestick(mydf)"
   ]
  },
  {
   "cell_type": "code",
   "execution_count": null,
   "metadata": {},
   "outputs": [],
   "source": []
  },
  {
   "cell_type": "code",
   "execution_count": 111,
   "metadata": {},
   "outputs": [],
   "source": []
  },
  {
   "cell_type": "code",
   "execution_count": null,
   "metadata": {},
   "outputs": [],
   "source": []
  }
 ],
 "metadata": {
  "kernelspec": {
   "display_name": "Python 3",
   "language": "python",
   "name": "python3"
  },
  "language_info": {
   "codemirror_mode": {
    "name": "ipython",
    "version": 3
   },
   "file_extension": ".py",
   "mimetype": "text/x-python",
   "name": "python",
   "nbconvert_exporter": "python",
   "pygments_lexer": "ipython3",
   "version": "3.6.6"
  }
 },
 "nbformat": 4,
 "nbformat_minor": 2
}
